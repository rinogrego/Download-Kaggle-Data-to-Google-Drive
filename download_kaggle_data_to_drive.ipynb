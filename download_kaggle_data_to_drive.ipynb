{
  "nbformat": 4,
  "nbformat_minor": 0,
  "metadata": {
    "colab": {
      "name": "download-kaggle-data-to-drive.ipynb",
      "provenance": [],
      "collapsed_sections": [],
      "mount_file_id": "1HoAp3fgi9vi2JRgQiYIFXpQgsUoSg9Bt",
      "authorship_tag": "ABX9TyO/9ZJad8EI4P+liHi63cWp",
      "include_colab_link": true
    },
    "kernelspec": {
      "name": "python3",
      "display_name": "Python 3"
    },
    "language_info": {
      "name": "python"
    }
  },
  "cells": [
    {
      "cell_type": "markdown",
      "metadata": {
        "id": "view-in-github",
        "colab_type": "text"
      },
      "source": [
        "<a href=\"https://colab.research.google.com/github/rinogrego/Download-Kaggle-Data-to-Google-Drive/blob/main/download_kaggle_data_to_drive.ipynb\" target=\"_parent\"><img src=\"https://colab.research.google.com/assets/colab-badge.svg\" alt=\"Open In Colab\"/></a>"
      ]
    },
    {
      "cell_type": "code",
      "execution_count": null,
      "metadata": {
        "colab": {
          "base_uri": "https://localhost:8080/"
        },
        "id": "BLXbHl7c-1er",
        "outputId": "e3c91a7d-a345-462d-c29c-c50ea3d308f2"
      },
      "outputs": [
        {
          "output_type": "stream",
          "name": "stdout",
          "text": [
            "Drive already mounted at /content/drive; to attempt to forcibly remount, call drive.mount(\"/content/drive\", force_remount=True).\n"
          ]
        }
      ],
      "source": [
        "from google.colab import drive\n",
        "# drive.mount('/content/drive')"
      ]
    },
    {
      "cell_type": "code",
      "source": [
        "#Configuration environment\n",
        "import os\n",
        "os.environ['KAGGLE_USERNAME'] = \"<LOL>\"\n",
        "# username from the json file\n",
        "os.environ['KAGGLE_KEY'] = \"<LOL>\"\n",
        "# key from the json file"
      ],
      "metadata": {
        "id": "kCaW6fVf_GfT"
      },
      "execution_count": null,
      "outputs": []
    },
    {
      "cell_type": "code",
      "source": [
        "# If kaggle not downloading the entire data\n",
        "# source: https://www.kaggle.com/questions-and-answers/135301\n",
        "!pip install --upgrade --force-reinstall --no-deps kaggle"
      ],
      "metadata": {
        "colab": {
          "base_uri": "https://localhost:8080/"
        },
        "id": "lxXaKNJv_5CU",
        "outputId": "3902b6e6-88c7-416d-bb7e-3f07d8312ff2"
      },
      "execution_count": null,
      "outputs": [
        {
          "output_type": "stream",
          "name": "stdout",
          "text": [
            "Collecting kaggle\n",
            "  Downloading kaggle-1.5.12.tar.gz (58 kB)\n",
            "\u001b[?25l\r\u001b[K     |█████▋                          | 10 kB 26.0 MB/s eta 0:00:01\r\u001b[K     |███████████▏                    | 20 kB 30.2 MB/s eta 0:00:01\r\u001b[K     |████████████████▊               | 30 kB 33.7 MB/s eta 0:00:01\r\u001b[K     |██████████████████████▎         | 40 kB 25.3 MB/s eta 0:00:01\r\u001b[K     |███████████████████████████▉    | 51 kB 27.8 MB/s eta 0:00:01\r\u001b[K     |████████████████████████████████| 58 kB 6.3 MB/s \n",
            "\u001b[?25hBuilding wheels for collected packages: kaggle\n",
            "  Building wheel for kaggle (setup.py) ... \u001b[?25l\u001b[?25hdone\n",
            "  Created wheel for kaggle: filename=kaggle-1.5.12-py3-none-any.whl size=73051 sha256=2d4d2d5ce7e5df11012bf581364d1ec2f300ca10d776d1c26961db3737fcded6\n",
            "  Stored in directory: /root/.cache/pip/wheels/62/d6/58/5853130f941e75b2177d281eb7e44b4a98ed46dd155f556dc5\n",
            "Successfully built kaggle\n",
            "Installing collected packages: kaggle\n",
            "  Attempting uninstall: kaggle\n",
            "    Found existing installation: kaggle 1.5.12\n",
            "    Uninstalling kaggle-1.5.12:\n",
            "      Successfully uninstalled kaggle-1.5.12\n",
            "Successfully installed kaggle-1.5.12\n"
          ]
        }
      ]
    },
    {
      "cell_type": "markdown",
      "source": [
        "## Bone Age Regression Competition"
      ],
      "metadata": {
        "id": "pUUXEwfvAFix"
      }
    },
    {
      "cell_type": "code",
      "source": [
        "!mkdir '/content/drive/MyDrive/Bone-Age-Regression'"
      ],
      "metadata": {
        "id": "bOW7LueoV43N"
      },
      "execution_count": null,
      "outputs": []
    },
    {
      "cell_type": "code",
      "source": [
        "!kaggle competitions download bone-age-regression -p '/content/drive/MyDrive/Bone-Age-Regression/'"
      ],
      "metadata": {
        "colab": {
          "base_uri": "https://localhost:8080/"
        },
        "id": "_GA0VjGpCwL6",
        "outputId": "a08cf828-b925-401a-c42e-4408312fe759"
      },
      "execution_count": null,
      "outputs": [
        {
          "output_type": "stream",
          "name": "stdout",
          "text": [
            "Downloading bone-age-regression.zip to /content/drive/MyDrive/Bone-Age-Regression\n",
            "100% 9.12G/9.13G [02:21<00:00, 61.8MB/s]\n",
            "100% 9.13G/9.13G [02:21<00:00, 69.4MB/s]\n"
          ]
        }
      ]
    },
    {
      "cell_type": "code",
      "source": [
        "!unzip -q '/content/drive/MyDrive/Bone-Age-Regression/bone-age-regression.zip'"
      ],
      "metadata": {
        "colab": {
          "base_uri": "https://localhost:8080/"
        },
        "id": "LjqDtPKnEIdr",
        "outputId": "87d5b998-262c-4ccc-8556-0c3844f95288"
      },
      "execution_count": null,
      "outputs": [
        {
          "output_type": "stream",
          "name": "stdout",
          "text": [
            "replace sample_submission.csv? [y]es, [n]o, [A]ll, [N]one, [r]ename: y\n",
            "replace test.csv? [y]es, [n]o, [A]ll, [N]one, [r]ename: y\n",
            "replace train.csv? [y]es, [n]o, [A]ll, [N]one, [r]ename: y\n"
          ]
        }
      ]
    },
    {
      "cell_type": "markdown",
      "source": [
        "## Twitter Sentiment Analysis"
      ],
      "metadata": {
        "id": "AVpRWvO1ADQD"
      }
    },
    {
      "cell_type": "code",
      "source": [
        "!kaggle datasets download kazanova/sentiment140 -p '/content/drive/MyDrive/Dataset/'"
      ],
      "metadata": {
        "id": "EPSzcQQxFW0M",
        "colab": {
          "base_uri": "https://localhost:8080/"
        },
        "outputId": "5fa58ab9-2bd9-4494-fb22-df405af27137"
      },
      "execution_count": null,
      "outputs": [
        {
          "output_type": "stream",
          "name": "stdout",
          "text": [
            "Downloading sentiment140.zip to /content/drive/MyDrive/Dataset\n",
            " 91% 74.0M/80.9M [00:00<00:00, 174MB/s]\n",
            "100% 80.9M/80.9M [00:00<00:00, 173MB/s]\n"
          ]
        }
      ]
    },
    {
      "cell_type": "code",
      "source": [
        "!unzip -q '/content/drive/MyDrive/Dataset/twitter-sentiment140.zip' -d '/content/dataset/'"
      ],
      "metadata": {
        "id": "0GwkwMRZ9DF4"
      },
      "execution_count": null,
      "outputs": []
    },
    {
      "cell_type": "code",
      "source": [
        ""
      ],
      "metadata": {
        "id": "y8IFqKYw-kx3"
      },
      "execution_count": null,
      "outputs": []
    }
  ]
}